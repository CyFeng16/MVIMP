{
  "nbformat": 4,
  "nbformat_minor": 0,
  "metadata": {
    "colab": {
      "name": "MVIMP-AnimeGANv2-Demo.ipynb",
      "provenance": [],
      "private_outputs": true,
      "collapsed_sections": []
    },
    "kernelspec": {
      "name": "python3",
      "display_name": "Python 3"
    },
    "accelerator": "GPU"
  },
  "cells": [
    {
      "cell_type": "markdown",
      "metadata": {
        "id": "-QypmISklrxI",
        "colab_type": "text"
      },
      "source": [
        "### STAGE ONE: Prepare dependencies."
      ]
    },
    {
      "cell_type": "code",
      "metadata": {
        "id": "IhAPmDd2_iUc",
        "colab_type": "code",
        "colab": {}
      },
      "source": [
        "%tensorflow_version 1.x\n",
        "!ls -l /usr/local/cuda\n",
        "!git clone https://github.com/CyFeng16/MVIMP.git\n",
        "\n",
        "import os\n",
        "os.chdir('/content/MVIMP')\n",
        "!python3 preparation.py"
      ],
      "execution_count": null,
      "outputs": []
    },
    {
      "cell_type": "markdown",
      "metadata": {
        "id": "I3SD8FTCl__g",
        "colab_type": "text"
      },
      "source": [
        "### STAGE TWO: **Upload** your pictures in `MVIMP/Data/Input`.<br>Processed outputs will be in `MVIMP/Data/Output`."
      ]
    },
    {
      "cell_type": "markdown",
      "metadata": {
        "id": "QFg1fivimM_0",
        "colab_type": "text"
      },
      "source": [
        "### STAGE THREE: One-line commmand to embrace AnimeGANv2(change your photos' style to anime-like).\n",
        "\n",
        "| params \t| abbr. \t| Default \t| Description \t|\n",
        "|-\t|-\t|-\t|-\t|\n",
        "| --style \t| -s \t| Hayao \t| The anime style you want to get. \t|\n",
        "\n",
        "| Style name \t| Anime style \t|\n",
        "|-\t|-\t|\n",
        "| Hayao \t| Miyazaki Hayao \t|\n",
        "| Shinkai \t| Makoto Shinkai \t|\n",
        "| Paprika \t| Kon Satoshi \t|"
      ]
    },
    {
      "cell_type": "code",
      "metadata": {
        "id": "M428rc3_aIDn",
        "colab_type": "code",
        "colab": {}
      },
      "source": [
        "style = 'Hayao' #@param [\"Hayao\", \"Shinkai\", \"Paprika\"]\n",
        "!python3 inference_animeganv2.py -s {style}"
      ],
      "execution_count": null,
      "outputs": []
    }
  ]
}