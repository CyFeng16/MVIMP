{
 "nbformat": 4,
 "nbformat_minor": 0,
 "metadata": {
  "colab": {
   "name": "MVIMP_Waifu2x-ncnn-Vulkan_Demo.ipynb",
   "provenance": [],
   "private_outputs": true
  },
  "kernelspec": {
   "name": "python3",
   "display_name": "Python 3"
  },
  "accelerator": "GPU"
 },
 "cells": [
  {
   "cell_type": "markdown",
   "metadata": {
    "id": "fJnMZEPUEhmo",
    "colab_type": "text"
   },
   "source": [
    "### STAGE ONE: Prepare dependencies."
   ]
  },
  {
   "cell_type": "code",
   "metadata": {
    "id": "UHDdbXBD8Kvj",
    "colab_type": "code",
    "cellView": "both",
    "colab": {}
   },
   "source": [
    "!ls -l /usr/local/cuda\n",
    "!git clone https://github.com/CyFeng16/MVIMP.git\n",
    "\n",
    "import os\n",
    "os.chdir('/content/MVIMP')\n",
    "!python3 preparation.py -f waifu2x-vulkan"
   ],
   "execution_count": 0,
   "outputs": []
  },
  {
   "cell_type": "markdown",
   "metadata": {
    "colab_type": "text",
    "id": "3jSYV2A3L0Y0"
   },
   "source": [
    "### STAGE TWO: **Upload** your pictures in `MVIMP/Data/Input`.<br>Processed outputs will be in `MVIMP/Data/Output`."
   ]
  },
  {
   "cell_type": "markdown",
   "metadata": {
    "id": "XQ8eK4JlFBzQ",
    "colab_type": "text"
   },
   "source": [
    "### STAGE THREE: One-line commmand to embrace DeOldify(super-resolution program which runs fast on Intel/AMD/Nvidia with Vulkan API.).\n",
    "\n",
    "| params     | abbr. | Default                     | Description                                                                                                                                                                               |\n",
    "|------------|-------|-----------------------------|-------------------------------------------------------------------------------------------------------------------------------------------------------------------------------------------|\n",
    "| --scale    | -s    | 2                           | upscale ratio (1/2, default=2)                                                                                                                                                            |\n",
    "| --noise    | -n    | 0                           | denoise level (-1/0/1/2/3, default=0)                                                                                                                                                     |\n",
    "| --tilesize | -t    | 400                         | Tile size. Between 32 and 19327352831, no appreciable effect.                                                                                                                             |\n",
    "| --model    | -m    | cunet                       | Model to use. You can choose in \"cunet\", \"photo\" and \"animeart\".                                                                                                                          |\n",
    "| --tta      | -x    | store_true<br>(True if set) | TTA mode able to reduce several types of artifacts but it's 8x slower than the non-TTA mode.<br>See for [details](https://github.com/nagadomi/waifu2x/issues/148#issuecomment-255754265). |"
   ]
  },
  {
   "cell_type": "code",
   "metadata": {
    "colab_type": "code",
    "cellView": "both",
    "id": "KbWn1P6vMbAa",
    "colab": {}
   },
   "source": [
    "scale = 2  #@param {type: \"slider\", min: 1, max: 2}\n",
    "noise = 0  #@param {type: \"slider\", min: -1, max: 3}\n",
    "tilesize = 400 #@param {type:\"integer\"}\n",
    "model = 'cunet' #@param [\"cunet\", \"photo\", \"animeart\"]\n",
    "\n",
    "!python3 inference_waifu2x-vulkan.py -s {scale} -n {noise} -t {tilesize} -m {model}"
   ],
   "execution_count": 0,
   "outputs": []
  }
 ]
}