{
  "nbformat": 4,
  "nbformat_minor": 0,
  "metadata": {
    "colab": {
      "name": "MVIMP-DAIN-Demo.ipynb",
      "provenance": [],
      "private_outputs": true,
      "collapsed_sections": []
    },
    "kernelspec": {
      "name": "python3",
      "display_name": "Python 3"
    },
    "accelerator": "GPU"
  },
  "cells": [
    {
      "cell_type": "markdown",
      "metadata": {
        "id": "fJnMZEPUEhmo",
        "colab_type": "text"
      },
      "source": [
        "### STAGE ONE: Prepare dependencies.<br>(NOTE: colab only, the following scripts may change your system-level configs.)\n",
        "`torch 1.0.0` `torchvision 0.2.1` `CUDA 9.0` `gcc&g++ 4.9`"
      ]
    },
    {
      "cell_type": "code",
      "metadata": {
        "id": "5N0PvNvuL0f4",
        "colab_type": "code",
        "colab": {}
      },
      "source": [
        "# Downgrade gcc and g++\n",
        "!sudo echo 'deb http://dk.archive.ubuntu.com/ubuntu/ xenial main' >> /etc/apt/sources.list\n",
        "!sudo echo 'deb http://dk.archive.ubuntu.com/ubuntu/ xenial universe' >> /etc/apt/sources.list\n",
        "!sudo apt update\n",
        "!sudo apt install -y gcc-4.9 g++-4.9\n",
        "!ln -snf /usr/bin/gcc-4.9 /usr/bin/gcc\n",
        "!ln -snf /usr/bin/g++-4.9 /usr/bin/g++\n",
        "\n",
        "# Install CUDA-9.0\n",
        "!wget https://developer.nvidia.com/compute/cuda/9.0/Prod/local_installers/cuda-repo-ubuntu1604-9-0-local_9.0.176-1_amd64-deb\n",
        "!dpkg -i cuda-repo-ubuntu1604-9-0-local_9.0.176-1_amd64-deb\n",
        "!apt-key add /var/cuda-repo-9-0-local/7fa2af80.pub\n",
        "!apt-get update\n",
        "!apt-get install cuda=9.0.176-1\n",
        "# Then set the softlink to CUDA 9.0\n",
        "!sudo ln -snf /usr/local/cuda-9.0 /usr/local/cuda\n",
        "\n",
        "# Install PyTorch 1.0.0 with TorchVision 0.2.1\n",
        "!pip install torch==1.0.0 torchvision==0.2.1\n",
        "\n",
        "# Clone Repo\n",
        "!git clone https://github.com/CyFeng16/MVIMP.git\n",
        "\n",
        "# Dependencies prepared and listed as follows:\n",
        "!nvcc --version\n",
        "import torch\n",
        "print(torch.cuda.is_available())\n",
        "print(torch.__version__)\n",
        "!ls -l /usr/local/cuda /usr/bin/gcc /usr/bin/g++\n",
        "\n",
        "# We can finally perform a complete compilation. XD\n",
        "import os\n",
        "os.chdir('/content/MVIMP')\n",
        "!python3 preparation.py -f dain"
      ],
      "execution_count": 0,
      "outputs": []
    },
    {
      "cell_type": "markdown",
      "metadata": {
        "id": "3pnYKSto_G-m",
        "colab_type": "text"
      },
      "source": [
        "### STAGE TWO: **Upload** your video in `MVIMP/Data/Input`.<br>Processed outputs will be in `MVIMP/Data/Output`."
      ]
    },
    {
      "cell_type": "code",
      "metadata": {
        "id": "BHuqil5W0vdr",
        "colab_type": "code",
        "colab": {}
      },
      "source": [
        "# (optimal) download a sample and try it\n",
        "!wget --no-check-certificate \"https://www.dropbox.com/s/gd7gzdvq0titd5c/black-widow-trailer-3_h1080p-test.mp4\" -O /content/MVIMP/Data/Input/test.mp4"
      ],
      "execution_count": 0,
      "outputs": []
    },
    {
      "cell_type": "markdown",
      "metadata": {
        "id": "XQ8eK4JlFBzQ",
        "colab_type": "text"
      },
      "source": [
        "### STAGE THREE: Now one-line commmand to embrace DAIN(Video frames insertion).\n",
        "\n",
        "| params            | abbr.  | Default    | Description                                                                                                                                 |\n",
        "|-------------------|--------|------------|---------------------------------------------------------------------------------------------------------------------------------------------|\n",
        "| --input_video     | -input | /          | The input video name.                                                                                                                       |\n",
        "| --time_step       | -ts    | 0.5        | Set the frame multiplier.<br>0.5 corresponds to 2X;<br>0.25 corresponds to 4X;<br>0.125 corresponds to 8X.                                  |\n",
        "| --high_resolution | -hr    | store_true | Default is False(action:store_true).<br>Turn it on when you handling FHD videos,<br>A frame-splitting process will reduce GPU memory usage. |"
      ]
    },
    {
      "cell_type": "code",
      "metadata": {
        "id": "ujv4QOzD8nzC",
        "colab_type": "code",
        "cellView": "both",
        "colab": {}
      },
      "source": [
        "#@title One-line commmand to embrace DAIN(Video frames insertion).\n",
        "!python3 inference_dain.py --input_video test.mp4 --time_step 0.5 -hr"
      ],
      "execution_count": 0,
      "outputs": []
    }
  ]
}