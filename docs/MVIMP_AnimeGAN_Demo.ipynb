{
  "nbformat": 4,
  "nbformat_minor": 0,
  "metadata": {
    "colab": {
      "name": "MVIMP-AnimeGAN-Demo.ipynb",
      "provenance": [],
      "private_outputs": true,
      "collapsed_sections": []
    },
    "kernelspec": {
      "name": "python3",
      "display_name": "Python 3"
    },
    "accelerator": "GPU"
  },
  "cells": [
    {
      "cell_type": "markdown",
      "metadata": {
        "id": "fJnMZEPUEhmo",
        "colab_type": "text"
      },
      "source": [
        "### STAGE ONE: Prepare dependencies."
      ]
    },
    {
      "cell_type": "code",
      "metadata": {
        "id": "UHDdbXBD8Kvj",
        "colab_type": "code",
        "cellView": "both",
        "colab": {}
      },
      "source": [
        "%tensorflow_version 1.x\n",
        "!ls -l /usr/local/cuda\n",
        "!git clone https://github.com/CyFeng16/MVIMP.git\n",
        "\n",
        "import os\n",
        "os.chdir('/content/MVIMP')\n",
        "!python3 preparation.py -f animegan"
      ],
      "execution_count": 0,
      "outputs": []
    },
    {
      "cell_type": "markdown",
      "metadata": {
        "colab_type": "text",
        "id": "3jSYV2A3L0Y0"
      },
      "source": [
        "### STAGE TWO: **Upload** your pictures in `MVIMP/Data/Input`.<br>Processed outputs will be in `MVIMP/Data/Output`."
      ]
    },
    {
      "cell_type": "markdown",
      "metadata": {
        "id": "XQ8eK4JlFBzQ",
        "colab_type": "text"
      },
      "source": [
        "### STAGE THREE: One-line commmand to embrace AnimeGAN(change your photos' style to anime-like)."
      ]
    },
    {
      "cell_type": "code",
      "metadata": {
        "id": "ujv4QOzD8nzC",
        "colab_type": "code",
        "cellView": "both",
        "colab": {}
      },
      "source": [
        "!python3 inference_animegan.py"
      ],
      "execution_count": 0,
      "outputs": []
    }
  ]
}